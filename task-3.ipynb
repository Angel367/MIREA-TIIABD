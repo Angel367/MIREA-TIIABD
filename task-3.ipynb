{
 "cells": [
  {
   "metadata": {
    "ExecuteTime": {
     "end_time": "2024-09-08T15:25:03.140917Z",
     "start_time": "2024-09-08T15:25:03.131066Z"
    }
   },
   "cell_type": "code",
   "source": [
    "def calculate_operation(a, b, operation):\n",
    "    try:\n",
    "        if operation == '+':\n",
    "            return a + b\n",
    "        elif operation == '-':\n",
    "            return a - b\n",
    "        elif operation == '/':\n",
    "            return a / b\n",
    "        elif operation == '//':\n",
    "            return a // b\n",
    "        elif operation == 'abs':\n",
    "            return abs(a), abs(b)\n",
    "        elif operation == 'pow' or operation == '**':\n",
    "            return a ** b\n",
    "        else:\n",
    "            raise ValueError(\"Неизвестная операция\")\n",
    "    except ZeroDivisionError:\n",
    "        return \"Деление на ноль\"\n",
    "    except ValueError as e:\n",
    "        return e\n",
    "    except Exception as e:\n",
    "        return e"
   ],
   "id": "57d5a4bc12b3bced",
   "outputs": [],
   "execution_count": 9
  },
  {
   "metadata": {
    "ExecuteTime": {
     "end_time": "2024-09-08T15:25:24.814645Z",
     "start_time": "2024-09-08T15:25:03.164803Z"
    }
   },
   "cell_type": "code",
   "source": [
    "a, b, operation = input(\"Введите через пробел два числа и операцию: \").split()\n",
    "print(a, b, operation)"
   ],
   "id": "923274ddb9335ffc",
   "outputs": [
    {
     "name": "stdout",
     "output_type": "stream",
     "text": [
      "5 6 **\n"
     ]
    }
   ],
   "execution_count": 10
  },
  {
   "metadata": {
    "ExecuteTime": {
     "end_time": "2024-09-08T15:25:24.955474Z",
     "start_time": "2024-09-08T15:25:24.942942Z"
    }
   },
   "cell_type": "code",
   "source": [
    "a, b = float(a), float(b)\n",
    "print(calculate_operation(a, b, operation))"
   ],
   "id": "39e222452fcdb9fc",
   "outputs": [
    {
     "name": "stdout",
     "output_type": "stream",
     "text": [
      "15625.0\n"
     ]
    }
   ],
   "execution_count": 11
  }
 ],
 "metadata": {
  "kernelspec": {
   "display_name": "Python 3",
   "language": "python",
   "name": "python3"
  },
  "language_info": {
   "codemirror_mode": {
    "name": "ipython",
    "version": 2
   },
   "file_extension": ".py",
   "mimetype": "text/x-python",
   "name": "python",
   "nbconvert_exporter": "python",
   "pygments_lexer": "ipython2",
   "version": "2.7.6"
  }
 },
 "nbformat": 4,
 "nbformat_minor": 5
}
