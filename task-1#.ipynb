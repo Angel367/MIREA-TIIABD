{
 "cells": [
  {
   "cell_type": "code",
   "id": "b31fd827c45bc5fd",
   "metadata": {
    "collapsed": true,
    "ExecuteTime": {
     "end_time": "2024-09-07T13:09:17.785025Z",
     "start_time": "2024-09-07T13:09:17.765042Z"
    }
   },
   "source": [
    "codes = {'a': '.-', 'b': '-…', 'c': '-.-.', 'd': '-..',\n",
    " 'e': '.', 'f': '..-.', 'g': '--.', 'h': '….',\n",
    " 'i': '..', 'j': '.---', 'k': '-.-', 'l': '.-..',\n",
    " 'm': '--', 'n': '-.', 'o': '---', 'p': '.--.',\n",
    " 'q': '--.-', 'r': '.-.', 's': '…', 't': '-',\n",
    " 'u': '..-', 'v': '…-', 'w': '.--', 'x': '-..-',\n",
    " 'y': '-.--', 'z': '--..'}"
   ],
   "outputs": [],
   "execution_count": 5
  },
  {
   "metadata": {
    "ExecuteTime": {
     "end_time": "2024-09-07T13:09:22.841160Z",
     "start_time": "2024-09-07T13:09:17.792022Z"
    }
   },
   "cell_type": "code",
   "source": [
    "input_str = str(input(\"Введите строку: \"))\n",
    "input_words = input_str.split()\n",
    "result = []"
   ],
   "id": "9b96f8b25fd478d0",
   "outputs": [],
   "execution_count": 6
  },
  {
   "metadata": {
    "ExecuteTime": {
     "end_time": "2024-09-07T13:09:22.857162Z",
     "start_time": "2024-09-07T13:09:22.845164Z"
    }
   },
   "cell_type": "code",
   "source": [
    "for word in input_words:\n",
    "    encoded_word = \"\"\n",
    "    for ch in word:\n",
    "        encoded_word += codes[ch.lower()]\n",
    "    result.append(encoded_word)"
   ],
   "id": "f71b43b7caa09e83",
   "outputs": [],
   "execution_count": 7
  },
  {
   "metadata": {
    "ExecuteTime": {
     "end_time": "2024-09-07T13:09:22.873161Z",
     "start_time": "2024-09-07T13:09:22.861164Z"
    }
   },
   "cell_type": "code",
   "source": [
    "for word in result:\n",
    "    print(word)"
   ],
   "id": "initial_id",
   "outputs": [
    {
     "name": "stdout",
     "output_type": "stream",
     "text": [
      "..--.-...-..----.\n",
      "….--.-..-.-.-.-..\n",
      "…-.-.-.-\n"
     ]
    }
   ],
   "execution_count": 8
  }
 ],
 "metadata": {
  "kernelspec": {
   "display_name": "Python 3",
   "language": "python",
   "name": "python3"
  },
  "language_info": {
   "codemirror_mode": {
    "name": "ipython",
    "version": 2
   },
   "file_extension": ".py",
   "mimetype": "text/x-python",
   "name": "python",
   "nbconvert_exporter": "python",
   "pygments_lexer": "ipython2",
   "version": "2.7.6"
  }
 },
 "nbformat": 4,
 "nbformat_minor": 5
}
