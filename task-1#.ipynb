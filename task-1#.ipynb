{
 "cells": [
  {
   "cell_type": "code",
   "id": "b31fd827c45bc5fd",
   "metadata": {
    "collapsed": true,
    "ExecuteTime": {
     "end_time": "2024-09-08T15:38:52.267347Z",
     "start_time": "2024-09-08T15:38:52.242304Z"
    }
   },
   "source": [
    "codes = {'a': '.-', 'b': '-…', 'c': '-.-.', 'd': '-..',\n",
    " 'e': '.', 'f': '..-.', 'g': '--.', 'h': '….',\n",
    " 'i': '..', 'j': '.---', 'k': '-.-', 'l': '.-..',\n",
    " 'm': '--', 'n': '-.', 'o': '---', 'p': '.--.',\n",
    " 'q': '--.-', 'r': '.-.', 's': '…', 't': '-',\n",
    " 'u': '..-', 'v': '…-', 'w': '.--', 'x': '-..-',\n",
    " 'y': '-.--', 'z': '--..'}"
   ],
   "outputs": [],
   "execution_count": 1
  },
  {
   "metadata": {
    "ExecuteTime": {
     "end_time": "2024-09-08T15:38:53.293592Z",
     "start_time": "2024-09-08T15:38:52.281029Z"
    }
   },
   "cell_type": "code",
   "source": [
    "input_str = str(input(\"Введите строку: \"))\n",
    "print(input_str)\n",
    "input_words = input_str.split()\n",
    "result = []"
   ],
   "id": "9b96f8b25fd478d0",
   "outputs": [
    {
     "name": "stdout",
     "output_type": "stream",
     "text": [
      "Ignition sequence start\n"
     ]
    }
   ],
   "execution_count": 2
  },
  {
   "metadata": {
    "ExecuteTime": {
     "end_time": "2024-09-08T15:38:53.620631Z",
     "start_time": "2024-09-08T15:38:53.606540Z"
    }
   },
   "cell_type": "code",
   "source": [
    "for word in input_words:\n",
    "    encoded_word = \"\"\n",
    "    for ch in word:\n",
    "        encoded_word += codes[ch.lower()]\n",
    "    result.append(encoded_word)"
   ],
   "id": "f71b43b7caa09e83",
   "outputs": [],
   "execution_count": 3
  },
  {
   "metadata": {
    "ExecuteTime": {
     "end_time": "2024-09-08T15:38:53.665889Z",
     "start_time": "2024-09-08T15:38:53.654925Z"
    }
   },
   "cell_type": "code",
   "source": [
    "for word in result:\n",
    "    print(word)"
   ],
   "id": "initial_id",
   "outputs": [
    {
     "name": "stdout",
     "output_type": "stream",
     "text": [
      "..--.-...-..----.\n",
      "….--.-..-.-.-.-..\n",
      "…-.-.-.-\n"
     ]
    }
   ],
   "execution_count": 4
  }
 ],
 "metadata": {
  "kernelspec": {
   "display_name": "Python 3",
   "language": "python",
   "name": "python3"
  },
  "language_info": {
   "codemirror_mode": {
    "name": "ipython",
    "version": 2
   },
   "file_extension": ".py",
   "mimetype": "text/x-python",
   "name": "python",
   "nbconvert_exporter": "python",
   "pygments_lexer": "ipython2",
   "version": "2.7.6"
  }
 },
 "nbformat": 4,
 "nbformat_minor": 5
}
