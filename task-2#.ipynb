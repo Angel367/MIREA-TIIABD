{
 "cells": [
  {
   "cell_type": "code",
   "id": "b31fd827c45bc5fd",
   "metadata": {
    "collapsed": true,
    "ExecuteTime": {
     "end_time": "2024-09-08T15:40:22.153772Z",
     "start_time": "2024-09-08T15:39:59.339176Z"
    }
   },
   "source": [
    "n = int(input(\"Введите число\"))\n",
    "string_list = []\n",
    "for i in range(n):\n",
    "    string_list.append(str(input(\"Введите имя\")))\n",
    "print(string_list)"
   ],
   "outputs": [
    {
     "name": "stdout",
     "output_type": "stream",
     "text": [
      "['fpqhfouqdldravpjttarh', 'fpqhfouqdldravpjttarh', 'fpqhfouqdldravpjttarh', 'fpqhfouqdldravpjttarh', 'fpqhfouqdldravpjttarh', 'fpqhfouqdldravpjttarh', 'jmvlplnrmba', 'fpqhfouqdldravpjttarh', 'jmvlplnrmba', 'fpqhfouqdldravpjttarh']\n"
     ]
    }
   ],
   "execution_count": 1
  },
  {
   "metadata": {
    "ExecuteTime": {
     "end_time": "2024-09-08T15:40:22.292677Z",
     "start_time": "2024-09-08T15:40:22.258839Z"
    }
   },
   "cell_type": "code",
   "source": [
    "database = {}\n",
    "for string in string_list:\n",
    "    if string in database:\n",
    "        database[string] += 1\n",
    "        print(string + str(database[string]))\n",
    "    else:\n",
    "        database[string] = 0\n",
    "        print(\"OK\")"
   ],
   "id": "9b96f8b25fd478d0",
   "outputs": [
    {
     "name": "stdout",
     "output_type": "stream",
     "text": [
      "OK\n",
      "fpqhfouqdldravpjttarh1\n",
      "fpqhfouqdldravpjttarh2\n",
      "fpqhfouqdldravpjttarh3\n",
      "fpqhfouqdldravpjttarh4\n",
      "fpqhfouqdldravpjttarh5\n",
      "OK\n",
      "fpqhfouqdldravpjttarh6\n",
      "jmvlplnrmba1\n",
      "fpqhfouqdldravpjttarh7\n"
     ]
    }
   ],
   "execution_count": 2
  }
 ],
 "metadata": {
  "kernelspec": {
   "display_name": "Python 3",
   "language": "python",
   "name": "python3"
  },
  "language_info": {
   "codemirror_mode": {
    "name": "ipython",
    "version": 2
   },
   "file_extension": ".py",
   "mimetype": "text/x-python",
   "name": "python",
   "nbconvert_exporter": "python",
   "pygments_lexer": "ipython2",
   "version": "2.7.6"
  }
 },
 "nbformat": 4,
 "nbformat_minor": 5
}
