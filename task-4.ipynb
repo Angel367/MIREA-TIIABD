{
 "cells": [
  {
   "metadata": {
    "ExecuteTime": {
     "end_time": "2024-09-08T15:26:38.273712Z",
     "start_time": "2024-09-08T15:26:15.624850Z"
    }
   },
   "cell_type": "code",
   "source": [
    "summ = 0\n",
    "nums_squares = []\n",
    "while True:\n",
    "    n = int(input(\"Введите число:\"))    # 12 13 14 -29\n",
    "    summ += n\n",
    "    nums_squares.append(n**2)\n",
    "    if summ == 0:\n",
    "        break\n"
   ],
   "id": "57d5a4bc12b3bced",
   "outputs": [],
   "execution_count": 1
  },
  {
   "metadata": {
    "ExecuteTime": {
     "end_time": "2024-09-08T15:26:38.318409Z",
     "start_time": "2024-09-08T15:26:38.302849Z"
    }
   },
   "cell_type": "code",
   "source": "print(sum(nums_squares))",
   "id": "39e222452fcdb9fc",
   "outputs": [
    {
     "name": "stdout",
     "output_type": "stream",
     "text": [
      "2030\n"
     ]
    }
   ],
   "execution_count": 2
  }
 ],
 "metadata": {
  "kernelspec": {
   "display_name": "Python 3",
   "language": "python",
   "name": "python3"
  },
  "language_info": {
   "codemirror_mode": {
    "name": "ipython",
    "version": 2
   },
   "file_extension": ".py",
   "mimetype": "text/x-python",
   "name": "python",
   "nbconvert_exporter": "python",
   "pygments_lexer": "ipython2",
   "version": "2.7.6"
  }
 },
 "nbformat": 4,
 "nbformat_minor": 5
}
