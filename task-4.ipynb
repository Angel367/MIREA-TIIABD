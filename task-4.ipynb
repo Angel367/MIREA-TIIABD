{
 "cells": [
  {
   "metadata": {
    "ExecuteTime": {
     "end_time": "2024-09-06T20:56:20.813340Z",
     "start_time": "2024-09-06T20:56:17.350487Z"
    }
   },
   "cell_type": "code",
   "source": [
    "summ = 0\n",
    "nums_squares = []\n",
    "while True:\n",
    "    n = int(input(\"Введите число:\"))\n",
    "    summ += n\n",
    "    nums_squares.append(n**2)\n",
    "    if summ == 0:\n",
    "        break\n"
   ],
   "id": "57d5a4bc12b3bced",
   "outputs": [],
   "execution_count": 3
  },
  {
   "metadata": {
    "ExecuteTime": {
     "end_time": "2024-09-06T20:56:20.833517Z",
     "start_time": "2024-09-06T20:56:20.817882Z"
    }
   },
   "cell_type": "code",
   "source": "print(sum(nums_squares))",
   "id": "39e222452fcdb9fc",
   "outputs": [
    {
     "name": "stdout",
     "output_type": "stream",
     "text": [
      "38\n"
     ]
    }
   ],
   "execution_count": 4
  }
 ],
 "metadata": {
  "kernelspec": {
   "display_name": "Python 3",
   "language": "python",
   "name": "python3"
  },
  "language_info": {
   "codemirror_mode": {
    "name": "ipython",
    "version": 2
   },
   "file_extension": ".py",
   "mimetype": "text/x-python",
   "name": "python",
   "nbconvert_exporter": "python",
   "pygments_lexer": "ipython2",
   "version": "2.7.6"
  }
 },
 "nbformat": 4,
 "nbformat_minor": 5
}
