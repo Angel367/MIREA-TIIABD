{
 "cells": [
  {
   "metadata": {
    "ExecuteTime": {
     "end_time": "2024-09-06T21:22:59.981870Z",
     "start_time": "2024-09-06T21:22:50.610010Z"
    }
   },
   "cell_type": "code",
   "source": [
    "# Установка библиотеки scikit-learn\n",
    "!pip install -U scikit-learn\n",
    "# Установка библиотеки pandas\n",
    "!pip install -U pandas"
   ],
   "id": "858078b74752ad20",
   "outputs": [
    {
     "name": "stdout",
     "output_type": "stream",
     "text": [
      "Requirement already satisfied: scikit-learn in c:\\users\\1\\pycharmprojects\\mirea-tiiabd\\.venv\\lib\\site-packages (1.5.1)\n",
      "Requirement already satisfied: numpy>=1.19.5 in c:\\users\\1\\pycharmprojects\\mirea-tiiabd\\.venv\\lib\\site-packages (from scikit-learn) (2.1.1)\n",
      "Requirement already satisfied: scipy>=1.6.0 in c:\\users\\1\\pycharmprojects\\mirea-tiiabd\\.venv\\lib\\site-packages (from scikit-learn) (1.14.1)\n",
      "Requirement already satisfied: joblib>=1.2.0 in c:\\users\\1\\pycharmprojects\\mirea-tiiabd\\.venv\\lib\\site-packages (from scikit-learn) (1.4.2)\n",
      "Requirement already satisfied: threadpoolctl>=3.1.0 in c:\\users\\1\\pycharmprojects\\mirea-tiiabd\\.venv\\lib\\site-packages (from scikit-learn) (3.5.0)\n"
     ]
    },
    {
     "name": "stderr",
     "output_type": "stream",
     "text": [
      "\n",
      "[notice] A new release of pip is available: 23.2.1 -> 24.2\n",
      "[notice] To update, run: python.exe -m pip install --upgrade pip\n"
     ]
    },
    {
     "name": "stdout",
     "output_type": "stream",
     "text": [
      "Requirement already satisfied: pandas in c:\\users\\1\\pycharmprojects\\mirea-tiiabd\\.venv\\lib\\site-packages (2.2.2)\n",
      "Requirement already satisfied: numpy>=1.22.4 in c:\\users\\1\\pycharmprojects\\mirea-tiiabd\\.venv\\lib\\site-packages (from pandas) (2.1.1)\n",
      "Requirement already satisfied: python-dateutil>=2.8.2 in c:\\users\\1\\pycharmprojects\\mirea-tiiabd\\.venv\\lib\\site-packages (from pandas) (2.9.0.post0)\n",
      "Requirement already satisfied: pytz>=2020.1 in c:\\users\\1\\pycharmprojects\\mirea-tiiabd\\.venv\\lib\\site-packages (from pandas) (2024.1)\n",
      "Requirement already satisfied: tzdata>=2022.7 in c:\\users\\1\\pycharmprojects\\mirea-tiiabd\\.venv\\lib\\site-packages (from pandas) (2024.1)\n",
      "Requirement already satisfied: six>=1.5 in c:\\users\\1\\pycharmprojects\\mirea-tiiabd\\.venv\\lib\\site-packages (from python-dateutil>=2.8.2->pandas) (1.16.0)\n"
     ]
    },
    {
     "name": "stderr",
     "output_type": "stream",
     "text": [
      "\n",
      "[notice] A new release of pip is available: 23.2.1 -> 24.2\n",
      "[notice] To update, run: python.exe -m pip install --upgrade pip\n"
     ]
    }
   ],
   "execution_count": 18
  },
  {
   "metadata": {
    "ExecuteTime": {
     "end_time": "2024-09-06T21:22:59.997550Z",
     "start_time": "2024-09-06T21:22:59.984579Z"
    }
   },
   "cell_type": "code",
   "source": [
    "from sklearn.datasets import fetch_california_housing\n",
    "import pandas as pd"
   ],
   "id": "d440bfbacd46b1ac",
   "outputs": [],
   "execution_count": 19
  },
  {
   "metadata": {
    "ExecuteTime": {
     "end_time": "2024-09-06T21:23:00.044407Z",
     "start_time": "2024-09-06T21:23:00.000551Z"
    }
   },
   "cell_type": "code",
   "source": [
    "# 7. Скачать и загрузить данные о стоимости домов в Калифорнии\n",
    "data = fetch_california_housing(as_frame=True)\n",
    "df = data.frame"
   ],
   "id": "526fa68391e25f45",
   "outputs": [],
   "execution_count": 20
  },
  {
   "metadata": {
    "ExecuteTime": {
     "end_time": "2024-09-06T21:23:00.263643Z",
     "start_time": "2024-09-06T21:23:00.048409Z"
    }
   },
   "cell_type": "code",
   "source": [
    "# 8. Использовать метод info()\n",
    "info = df.info()"
   ],
   "id": "9a79c58ffbd602df",
   "outputs": [
    {
     "name": "stdout",
     "output_type": "stream",
     "text": [
      "<class 'pandas.core.frame.DataFrame'>\n",
      "RangeIndex: 20640 entries, 0 to 20639\n",
      "Data columns (total 9 columns):\n",
      " #   Column       Non-Null Count  Dtype  \n",
      "---  ------       --------------  -----  \n",
      " 0   MedInc       20640 non-null  float64\n",
      " 1   HouseAge     20640 non-null  float64\n",
      " 2   AveRooms     20640 non-null  float64\n",
      " 3   AveBedrms    20640 non-null  float64\n",
      " 4   Population   20640 non-null  float64\n",
      " 5   AveOccup     20640 non-null  float64\n",
      " 6   Latitude     20640 non-null  float64\n",
      " 7   Longitude    20640 non-null  float64\n",
      " 8   MedHouseVal  20640 non-null  float64\n",
      "dtypes: float64(9)\n",
      "memory usage: 1.4 MB\n"
     ]
    }
   ],
   "execution_count": 21
  },
  {
   "metadata": {
    "ExecuteTime": {
     "end_time": "2024-09-06T21:23:00.341346Z",
     "start_time": "2024-09-06T21:23:00.268655Z"
    }
   },
   "cell_type": "code",
   "source": [
    "# 9. Узнать, есть ли пропущенные значения, используя isna().sum()\n",
    "missing_values = df.isna().sum()\n",
    "print(missing_values)"
   ],
   "id": "fb1085ba3d5dbbe5",
   "outputs": [
    {
     "name": "stdout",
     "output_type": "stream",
     "text": [
      "MedInc         0\n",
      "HouseAge       0\n",
      "AveRooms       0\n",
      "AveBedrms      0\n",
      "Population     0\n",
      "AveOccup       0\n",
      "Latitude       0\n",
      "Longitude      0\n",
      "MedHouseVal    0\n",
      "dtype: int64\n"
     ]
    }
   ],
   "execution_count": 22
  },
  {
   "metadata": {
    "ExecuteTime": {
     "end_time": "2024-09-06T21:23:00.419791Z",
     "start_time": "2024-09-06T21:23:00.342874Z"
    }
   },
   "cell_type": "code",
   "source": [
    "# 10. Вывести записи, где средний возраст домов в районе более 50 лет и население более 2500 человек\n",
    "older_homes = df.loc[(df['HouseAge'] > 50) & (df['Population'] > 2500)]\n",
    "print(older_homes)"
   ],
   "id": "7f1161c4fa33aa0",
   "outputs": [
    {
     "name": "stdout",
     "output_type": "stream",
     "text": [
      "       MedInc  HouseAge  AveRooms  AveBedrms  Population    AveOccup  \\\n",
      "460    1.4012      52.0  3.105714   1.060000      3337.0    9.534286   \n",
      "4131   3.5349      52.0  4.646119   1.047945      2589.0    5.910959   \n",
      "4440   2.6806      52.0  4.806283   1.057592      3062.0    4.007853   \n",
      "5986   1.8750      52.0  4.500000   1.206349      2688.0   21.333333   \n",
      "7369   3.1901      52.0  4.730942   1.017937      3731.0    4.182735   \n",
      "8227   2.3305      52.0  3.488860   1.170380      3018.0    3.955439   \n",
      "13034  6.1359      52.0  8.275862   1.517241      6675.0  230.172414   \n",
      "15634  1.8295      52.0  2.628169   1.053521      2957.0    4.164789   \n",
      "15652  0.9000      52.0  2.237474   1.053535      3260.0    2.237474   \n",
      "15657  2.5166      52.0  2.839075   1.184049      3436.0    1.621520   \n",
      "15659  1.7240      52.0  2.278566   1.082348      4518.0    1.780142   \n",
      "15795  2.5755      52.0  3.402576   1.058776      2619.0    2.108696   \n",
      "15868  2.8135      52.0  4.584329   1.041169      2987.0    3.966799   \n",
      "\n",
      "       Latitude  Longitude  MedHouseVal  \n",
      "460       37.87    -122.26      1.75000  \n",
      "4131      34.13    -118.20      1.93600  \n",
      "4440      34.08    -118.21      1.53000  \n",
      "5986      34.10    -117.71      2.12500  \n",
      "7369      33.97    -118.21      1.67600  \n",
      "8227      33.78    -118.20      1.62500  \n",
      "13034     38.69    -121.15      2.25000  \n",
      "15634     37.80    -122.41      2.43800  \n",
      "15652     37.80    -122.41      5.00001  \n",
      "15657     37.79    -122.41      2.75000  \n",
      "15659     37.79    -122.41      2.25000  \n",
      "15795     37.77    -122.42      3.25000  \n",
      "15868     37.76    -122.41      2.60300  \n"
     ]
    }
   ],
   "execution_count": 23
  },
  {
   "metadata": {
    "ExecuteTime": {
     "end_time": "2024-09-06T21:23:00.452021Z",
     "start_time": "2024-09-06T21:23:00.430317Z"
    }
   },
   "cell_type": "code",
   "source": [
    "# 11. Узнать максимальное и минимальное значения медианной стоимости дома\n",
    "max_median_house_value = df['MedHouseVal'].max()\n",
    "min_median_house_value = df['MedHouseVal'].min()\n",
    "print(f\"Максимальное значение медианной стоимости дома: {max_median_house_value}\")\n",
    "print(f\"Минимальное значение медианной стоимости дома: {min_median_house_value}\")"
   ],
   "id": "c7786f5568f17d45",
   "outputs": [
    {
     "name": "stdout",
     "output_type": "stream",
     "text": [
      "Максимальное значение медианной стоимости дома: 5.00001\n",
      "Минимальное значение медианной стоимости дома: 0.14999\n"
     ]
    }
   ],
   "execution_count": 24
  },
  {
   "metadata": {
    "ExecuteTime": {
     "end_time": "2024-09-06T21:23:00.579136Z",
     "start_time": "2024-09-06T21:23:00.479104Z"
    }
   },
   "cell_type": "code",
   "source": [
    "# 12. Используя метод apply(), вывести на экран название признака и его среднее значение\n",
    "mean_values = df.apply(lambda col: (col.name, col.mean()))\n",
    "print(mean_values)"
   ],
   "id": "1c6a91dac20c6293",
   "outputs": [
    {
     "name": "stdout",
     "output_type": "stream",
     "text": [
      "     MedInc   HouseAge  AveRooms  AveBedrms   Population  AveOccup   Latitude  \\\n",
      "0    MedInc   HouseAge  AveRooms  AveBedrms   Population  AveOccup   Latitude   \n",
      "1  3.870671  28.639486     5.429   1.096675  1425.476744  3.070655  35.631861   \n",
      "\n",
      "    Longitude  MedHouseVal  \n",
      "0   Longitude  MedHouseVal  \n",
      "1 -119.569704     2.068558  \n"
     ]
    }
   ],
   "execution_count": 25
  }
 ],
 "metadata": {
  "kernelspec": {
   "display_name": "Python 3",
   "language": "python",
   "name": "python3"
  },
  "language_info": {
   "codemirror_mode": {
    "name": "ipython",
    "version": 2
   },
   "file_extension": ".py",
   "mimetype": "text/x-python",
   "name": "python",
   "nbconvert_exporter": "python",
   "pygments_lexer": "ipython2",
   "version": "2.7.6"
  }
 },
 "nbformat": 4,
 "nbformat_minor": 5
}
