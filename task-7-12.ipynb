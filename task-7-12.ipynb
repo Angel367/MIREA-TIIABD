{
 "cells": [
  {
   "metadata": {},
   "cell_type": "code",
   "source": [
    "# Установка библиотеки scikit-learn\n",
    "!pip install -U scikit-learn\n",
    "# Установка библиотеки pandas\n",
    "!pip install -U pandas"
   ],
   "id": "858078b74752ad20",
   "outputs": [],
   "execution_count": null
  },
  {
   "metadata": {},
   "cell_type": "code",
   "source": [
    "from sklearn.datasets import fetch_california_housing\n",
    "import pandas as pd"
   ],
   "id": "d440bfbacd46b1ac",
   "outputs": [],
   "execution_count": null
  },
  {
   "metadata": {},
   "cell_type": "code",
   "source": [
    "# 7. Скачать и загрузить данные о стоимости домов в Калифорнии\n",
    "data = fetch_california_housing(as_frame=True)\n",
    "df = data.frame"
   ],
   "id": "526fa68391e25f45",
   "outputs": [],
   "execution_count": null
  },
  {
   "metadata": {},
   "cell_type": "code",
   "source": [
    "# 8. Использовать метод info()\n",
    "info = df.info()"
   ],
   "id": "9a79c58ffbd602df",
   "outputs": [],
   "execution_count": null
  },
  {
   "metadata": {},
   "cell_type": "code",
   "source": [
    "# 9. Узнать, есть ли пропущенные значения, используя isna().sum()\n",
    "missing_values = df.isna().sum()\n",
    "print(missing_values)"
   ],
   "id": "fb1085ba3d5dbbe5",
   "outputs": [],
   "execution_count": null
  },
  {
   "metadata": {},
   "cell_type": "code",
   "source": [
    "# 10. Вывести записи, где средний возраст домов в районе более 50 лет и население более 2500 человек\n",
    "older_homes = df.loc[(df['HouseAge'] > 50) & (df['Population'] > 2500)]\n",
    "print(older_homes)"
   ],
   "id": "7f1161c4fa33aa0",
   "outputs": [],
   "execution_count": null
  },
  {
   "metadata": {},
   "cell_type": "code",
   "source": [
    "# 11. Узнать максимальное и минимальное значения медианной стоимости дома\n",
    "max_median_house_value = df['MedHouseVal'].max()\n",
    "min_median_house_value = df['MedHouseVal'].min()\n",
    "print(f\"Максимальное значение медианной стоимости дома: {max_median_house_value}\")\n",
    "print(f\"Минимальное значение медианной стоимости дома: {min_median_house_value}\")"
   ],
   "id": "c7786f5568f17d45",
   "outputs": [],
   "execution_count": null
  },
  {
   "metadata": {},
   "cell_type": "code",
   "source": [
    "# 12. Используя метод apply(), вывести на экран название признака и его среднее значение\n",
    "mean_values = df.apply(lambda col: (col.name, col.mean()))\n",
    "print(mean_values)"
   ],
   "id": "1c6a91dac20c6293",
   "outputs": [],
   "execution_count": null
  }
 ],
 "metadata": {
  "kernelspec": {
   "display_name": "Python 3",
   "language": "python",
   "name": "python3"
  },
  "language_info": {
   "codemirror_mode": {
    "name": "ipython",
    "version": 2
   },
   "file_extension": ".py",
   "mimetype": "text/x-python",
   "name": "python",
   "nbconvert_exporter": "python",
   "pygments_lexer": "ipython2",
   "version": "2.7.6"
  }
 },
 "nbformat": 4,
 "nbformat_minor": 5
}
