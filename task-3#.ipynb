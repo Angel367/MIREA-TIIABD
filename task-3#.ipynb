{
 "cells": [
  {
   "cell_type": "code",
   "id": "4c20605b7c406b71",
   "metadata": {
    "collapsed": true,
    "ExecuteTime": {
     "end_time": "2024-09-07T13:21:02.058348Z",
     "start_time": "2024-09-07T13:21:01.051479Z"
    }
   },
   "source": "files_amount = int(input(\"Введите количество файлов: \"))",
   "outputs": [],
   "execution_count": 5
  },
  {
   "metadata": {
    "ExecuteTime": {
     "end_time": "2024-09-07T13:21:04.910896Z",
     "start_time": "2024-09-07T13:21:02.067349Z"
    }
   },
   "cell_type": "code",
   "source": [
    "files_permissions = {}\n",
    "for _ in range(files_amount):\n",
    "    file_info = input(\"Введите имя и права доступа файла: \")\n",
    "    files_permissions[file_info.split()[0]] = file_info.split()[1:]\n",
    "print(files_permissions)"
   ],
   "id": "b31fd827c45bc5fd",
   "outputs": [
    {
     "name": "stdout",
     "output_type": "stream",
     "text": [
      "{'1.txt': [], '2.txt': []}\n"
     ]
    }
   ],
   "execution_count": 6
  },
  {
   "metadata": {
    "ExecuteTime": {
     "end_time": "2024-09-07T13:21:06.215001Z",
     "start_time": "2024-09-07T13:21:04.912898Z"
    }
   },
   "cell_type": "code",
   "source": "operations_amount = int(input(\"Введите количество операций: \"))",
   "id": "6cd00d1499b47a24",
   "outputs": [],
   "execution_count": 7
  },
  {
   "metadata": {
    "ExecuteTime": {
     "end_time": "2024-09-07T13:21:11.983972Z",
     "start_time": "2024-09-07T13:21:06.217003Z"
    }
   },
   "cell_type": "code",
   "source": [
    "for _ in range(operations_amount):\n",
    "    operation = input(\"Введите операцию: \").split()\n",
    "    if operation[0] == \"read\":\n",
    "        if \"r\" in files_permissions[operation[1]]:\n",
    "            print(\"OK\")\n",
    "        else:\n",
    "            print(\"Access denied\")\n",
    "    elif operation[0] == \"write\":\n",
    "        if \"w\" in files_permissions[operation[1]]:\n",
    "            print(\"OK\")\n",
    "        else:\n",
    "            print(\"Access denied\")\n",
    "    elif operation[0] == \"execute\":\n",
    "        if \"x\" in files_permissions[operation[1]]:\n",
    "            print(\"OK\")\n",
    "        else:\n",
    "            print(\"Access denied\")\n",
    "    else:\n",
    "        print(\"Unknown operation\")"
   ],
   "id": "e78aa0e86c08a5d6",
   "outputs": [
    {
     "name": "stdout",
     "output_type": "stream",
     "text": [
      "Access denied\n",
      "Access denied\n"
     ]
    }
   ],
   "execution_count": 8
  }
 ],
 "metadata": {
  "kernelspec": {
   "display_name": "Python 3",
   "language": "python",
   "name": "python3"
  },
  "language_info": {
   "codemirror_mode": {
    "name": "ipython",
    "version": 2
   },
   "file_extension": ".py",
   "mimetype": "text/x-python",
   "name": "python",
   "nbconvert_exporter": "python",
   "pygments_lexer": "ipython2",
   "version": "2.7.6"
  }
 },
 "nbformat": 4,
 "nbformat_minor": 5
}
