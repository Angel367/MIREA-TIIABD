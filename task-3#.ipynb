{
 "cells": [
  {
   "cell_type": "code",
   "id": "4c20605b7c406b71",
   "metadata": {
    "collapsed": true,
    "ExecuteTime": {
     "end_time": "2024-09-08T15:42:13.772258Z",
     "start_time": "2024-09-08T15:42:10.799068Z"
    }
   },
   "source": "files_amount = int(input(\"Введите количество файлов: \"))",
   "outputs": [],
   "execution_count": 6
  },
  {
   "metadata": {
    "ExecuteTime": {
     "end_time": "2024-09-08T15:42:21.737758Z",
     "start_time": "2024-09-08T15:42:13.824096Z"
    }
   },
   "cell_type": "code",
   "source": [
    "files_permissions = {}\n",
    "for _ in range(files_amount):\n",
    "    file_info = input(\"Введите имя и права доступа файла: \")\n",
    "    files_permissions[file_info.split()[0]] = file_info.split()[1:]\n",
    "print(files_permissions)"
   ],
   "id": "b31fd827c45bc5fd",
   "outputs": [
    {
     "name": "stdout",
     "output_type": "stream",
     "text": [
      "{'root.html': ['r', 'w', 'x'], 'main.py': ['x'], 'login.txt': ['w', 'r']}\n"
     ]
    }
   ],
   "execution_count": 7
  },
  {
   "metadata": {
    "ExecuteTime": {
     "end_time": "2024-09-08T15:42:24.326923Z",
     "start_time": "2024-09-08T15:42:21.851533Z"
    }
   },
   "cell_type": "code",
   "source": "operations_amount = int(input(\"Введите количество операций: \"))",
   "id": "6cd00d1499b47a24",
   "outputs": [],
   "execution_count": 8
  },
  {
   "metadata": {
    "ExecuteTime": {
     "end_time": "2024-09-08T15:42:36.451843Z",
     "start_time": "2024-09-08T15:42:24.351815Z"
    }
   },
   "cell_type": "code",
   "source": [
    "for _ in range(operations_amount):\n",
    "    operation = input(\"Введите операцию: \").split()\n",
    "    if operation[0] == \"read\":\n",
    "        if \"r\" in files_permissions[operation[1]]:\n",
    "            print(\"OK\")\n",
    "        else:\n",
    "            print(\"Access denied\")\n",
    "    elif operation[0] == \"write\":\n",
    "        if \"w\" in files_permissions[operation[1]]:\n",
    "            print(\"OK\")\n",
    "        else:\n",
    "            print(\"Access denied\")\n",
    "    elif operation[0] == \"execute\":\n",
    "        if \"x\" in files_permissions[operation[1]]:\n",
    "            print(\"OK\")\n",
    "        else:\n",
    "            print(\"Access denied\")\n",
    "    else:\n",
    "        print(\"Unknown operation\")"
   ],
   "id": "e78aa0e86c08a5d6",
   "outputs": [
    {
     "name": "stdout",
     "output_type": "stream",
     "text": [
      "OK\n",
      "Access denied\n",
      "OK\n",
      "Access denied\n"
     ]
    }
   ],
   "execution_count": 9
  }
 ],
 "metadata": {
  "kernelspec": {
   "display_name": "Python 3",
   "language": "python",
   "name": "python3"
  },
  "language_info": {
   "codemirror_mode": {
    "name": "ipython",
    "version": 2
   },
   "file_extension": ".py",
   "mimetype": "text/x-python",
   "name": "python",
   "nbconvert_exporter": "python",
   "pygments_lexer": "ipython2",
   "version": "2.7.6"
  }
 },
 "nbformat": 4,
 "nbformat_minor": 5
}
