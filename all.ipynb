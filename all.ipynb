{
 "cells": [
  {
   "metadata": {},
   "cell_type": "markdown",
   "source": "# Задание 1 ",
   "id": "9fc5862299d20663"
  },
  {
   "cell_type": "code",
   "id": "initial_id",
   "metadata": {
    "collapsed": true,
    "ExecuteTime": {
     "end_time": "2024-09-24T16:56:18.728548Z",
     "start_time": "2024-09-24T16:56:18.717012Z"
    }
   },
   "source": [
    "import pandas as pd\n",
    "\n",
    "# Данные по числу автомобилей на улице и в гараже за 5 рабочих дней\n",
    "data = {\n",
    "    'День': ['Понедельник', 'Вторник', 'Среда', 'Четверг', 'Пятница'],\n",
    "    'Улица': [80, 98, 75, 91, 78],\n",
    "    'Гараж': [100, 82, 105, 89, 102]\n",
    "}\n",
    "\n",
    "# Создадим DataFrame\n",
    "df = pd.DataFrame(data)\n",
    "\n",
    "# Выводим данные\n",
    "print(df)"
   ],
   "outputs": [
    {
     "name": "stdout",
     "output_type": "stream",
     "text": [
      "          День  Улица  Гараж\n",
      "0  Понедельник     80    100\n",
      "1      Вторник     98     82\n",
      "2        Среда     75    105\n",
      "3      Четверг     91     89\n",
      "4      Пятница     78    102\n"
     ]
    }
   ],
   "execution_count": 11
  },
  {
   "metadata": {},
   "cell_type": "markdown",
   "source": "### Задание 1.1",
   "id": "5f0f4368a5e0e102"
  },
  {
   "metadata": {
    "ExecuteTime": {
     "end_time": "2024-09-24T16:56:18.775133Z",
     "start_time": "2024-09-24T16:56:18.759553Z"
    }
   },
   "cell_type": "code",
   "source": [
    "# Корреляция Пирсона между «Улица» и «Гараж»\n",
    "correlation = df['Улица'].corr(df['Гараж'], method='pearson')\n",
    "print(f\"Корреляция между числом автомобилей на улице и в гараже: {correlation:.4f}\")"
   ],
   "id": "72b027ee2ffc42e5",
   "outputs": [
    {
     "name": "stdout",
     "output_type": "stream",
     "text": [
      "Корреляция между числом автомобилей на улице и в гараже: -1.0000\n"
     ]
    }
   ],
   "execution_count": 12
  },
  {
   "metadata": {},
   "cell_type": "markdown",
   "source": "### Задание 1.2",
   "id": "b13f1137213ba8c4"
  },
  {
   "metadata": {
    "ExecuteTime": {
     "end_time": "2024-09-24T16:56:19.368415Z",
     "start_time": "2024-09-24T16:56:18.838045Z"
    }
   },
   "cell_type": "code",
   "source": [
    "# Построение диаграммы рассеяния\n",
    "import matplotlib.pyplot as plt\n",
    "\n",
    "plt.scatter(df['Улица'], df['Гараж'])\n",
    "plt.title(\"Диаграмма рассеяния: Улица vs Гараж\")\n",
    "plt.xlabel(\"Число автомобилей на улице\")\n",
    "plt.ylabel(\"Число автомобилей в гараже\")\n",
    "plt.grid(True)\n",
    "plt.show()\n"
   ],
   "id": "8d130d9e1c11922b",
   "outputs": [
    {
     "data": {
      "text/plain": [
       "<Figure size 640x480 with 1 Axes>"
      ],
      "image/png": "[encoded data removed]"
     },
     "metadata": {},
     "output_type": "display_data"
    }
   ],
   "execution_count": 13
  },
  {
   "metadata": {},
   "cell_type": "markdown",
   "source": "# Задание 2",
   "id": "151587b66f555a2b"
  },
  {
   "metadata": {
    "ExecuteTime": {
     "end_time": "2024-09-24T16:56:19.507784Z",
     "start_time": "2024-09-24T16:56:19.466712Z"
    }
   },
   "cell_type": "code",
   "source": [
    "# Загрузка данных\n",
    "df_insurance = pd.read_csv('insurance.csv')\n",
    "\n",
    "# Посмотрим на первые строки\n",
    "print(df_insurance.head())\n",
    "\n",
    "# Посмотрим общую информацию о данных\n",
    "print(df_insurance.info())\n",
    "\n",
    "# Выведем описание числовых признаков\n",
    "print(df_insurance.describe())"
   ],
   "id": "56a50e2c160b03d5",
   "outputs": [
    {
     "name": "stdout",
     "output_type": "stream",
     "text": [
      "   age     sex     bmi  children smoker     region      charges\n",
      "0   19  female  27.900         0    yes  southwest  16884.92400\n",
      "1   18    male  33.770         1     no  southeast   1725.55230\n",
      "2   28    male  33.000         3     no  southeast   4449.46200\n",
      "3   33    male  22.705         0     no  northwest  21984.47061\n",
      "4   32    male  28.880         0     no  northwest   3866.85520\n",
      "<class 'pandas.core.frame.DataFrame'>\n",
      "RangeIndex: 1338 entries, 0 to 1337\n",
      "Data columns (total 7 columns):\n",
      " #   Column    Non-Null Count  Dtype  \n",
      "---  ------    --------------  -----  \n",
      " 0   age       1338 non-null   int64  \n",
      " 1   sex       1338 non-null   object \n",
      " 2   bmi       1338 non-null   float64\n",
      " 3   children  1338 non-null   int64  \n",
      " 4   smoker    1338 non-null   object \n",
      " 5   region    1338 non-null   object \n",
      " 6   charges   1338 non-null   float64\n",
      "dtypes: float64(2), int64(2), object(3)\n",
      "memory usage: 73.3+ KB\n",
      "None\n",
      "               age          bmi     children       charges\n",
      "count  1338.000000  1338.000000  1338.000000   1338.000000\n",
      "mean     39.207025    30.663397     1.094918  13270.422265\n",
      "std      14.049960     6.098187     1.205493  12110.011237\n",
      "min      18.000000    15.960000     0.000000   1121.873900\n",
      "25%      27.000000    26.296250     0.000000   4740.287150\n",
      "50%      39.000000    30.400000     1.000000   9382.033000\n",
      "75%      51.000000    34.693750     2.000000  16639.912515\n",
      "max      64.000000    53.130000     5.000000  63770.428010\n"
     ]
    }
   ],
   "execution_count": 14
  },
  {
   "metadata": {},
   "cell_type": "markdown",
   "source": "### Задание 2.1",
   "id": "e61aa6b9d07dab67"
  },
  {
   "metadata": {
    "ExecuteTime": {
     "end_time": "2024-09-24T16:56:19.604429Z",
     "start_time": "2024-09-24T16:56:19.574483Z"
    }
   },
   "cell_type": "code",
   "source": [
    "df_insurance_encoded = pd.get_dummies(df_insurance, drop_first=True)\n",
    "\n",
    "# Теперь построим корреляционную матрицу для числовых признаков\n",
    "correlation_matrix = df_insurance_encoded.corr()\n",
    "\n",
    "# Выведем корреляционную матрицу\n",
    "print(correlation_matrix)\n",
    "\n",
    "# Найдём переменную, которая наиболее коррелирует с целевой переменной (charges)\n",
    "target_variable = 'charges'\n",
    "correlations_with_target = correlation_matrix[target_variable].drop(target_variable)\n",
    "\n",
    "# Наиболее коррелирующая переменная\n",
    "most_correlated_feature = correlations_with_target.idxmax()\n",
    "max_correlation_value = correlations_with_target.max()\n",
    "\n",
    "print(f\"Наиболее коррелирующая переменная с '{target_variable}' — {most_correlated_feature} ({max_correlation_value:.4f})\")"
   ],
   "id": "28e2bd3573dbab99",
   "outputs": [
    {
     "name": "stdout",
     "output_type": "stream",
     "text": [
      "                       age       bmi  children   charges  sex_male  \\\n",
      "age               1.000000  0.109272  0.042469  0.299008 -0.020856   \n",
      "bmi               0.109272  1.000000  0.012759  0.198341  0.046371   \n",
      "children          0.042469  0.012759  1.000000  0.067998  0.017163   \n",
      "charges           0.299008  0.198341  0.067998  1.000000  0.057292   \n",
      "sex_male         -0.020856  0.046371  0.017163  0.057292  1.000000   \n",
      "smoker_yes       -0.025019  0.003750  0.007673  0.787251  0.076185   \n",
      "region_northwest -0.000407 -0.135996  0.024806 -0.039905 -0.011156   \n",
      "region_southeast -0.011642  0.270025 -0.023066  0.073982  0.017117   \n",
      "region_southwest  0.010016 -0.006205  0.021914 -0.043210 -0.004184   \n",
      "\n",
      "                  smoker_yes  region_northwest  region_southeast  \\\n",
      "age                -0.025019         -0.000407         -0.011642   \n",
      "bmi                 0.003750         -0.135996          0.270025   \n",
      "children            0.007673          0.024806         -0.023066   \n",
      "charges             0.787251         -0.039905          0.073982   \n",
      "sex_male            0.076185         -0.011156          0.017117   \n",
      "smoker_yes          1.000000         -0.036945          0.068498   \n",
      "region_northwest   -0.036945          1.000000         -0.346265   \n",
      "region_southeast    0.068498         -0.346265          1.000000   \n",
      "region_southwest   -0.036945         -0.320829         -0.346265   \n",
      "\n",
      "                  region_southwest  \n",
      "age                       0.010016  \n",
      "bmi                      -0.006205  \n",
      "children                  0.021914  \n",
      "charges                  -0.043210  \n",
      "sex_male                 -0.004184  \n",
      "smoker_yes               -0.036945  \n",
      "region_northwest         -0.320829  \n",
      "region_southeast         -0.346265  \n",
      "region_southwest          1.000000  \n",
      "Наиболее коррелирующая переменная с 'charges' — smoker_yes (0.7873)\n"
     ]
    }
   ],
   "execution_count": 15
  },
  {
   "metadata": {},
   "cell_type": "markdown",
   "source": "### Задание 2.2",
   "id": "f4fe267eaa5593fa"
  },
  {
   "metadata": {
    "ExecuteTime": {
     "end_time": "2024-09-24T16:56:19.695928Z",
     "start_time": "2024-09-24T16:56:19.667356Z"
    }
   },
   "cell_type": "code",
   "source": [
    "import numpy as np\n",
    "\n",
    "from sklearn.metrics import mean_squared_error\n",
    "\n",
    "# Переменные для регрессии\n",
    "X = df_insurance_encoded[most_correlated_feature].values\n",
    "y = df_insurance_encoded[target_variable].values\n",
    "\n",
    "# Реализация простой линейной регрессии\n",
    "n = len(X)\n",
    "X_mean = np.mean(X)\n",
    "y_mean = np.mean(y)\n",
    "\n",
    "# Вычисляем коэффициенты наклона и сдвига\n",
    "numerator = np.sum((X - X_mean) * (y - y_mean))\n",
    "denominator = np.sum((X - X_mean) ** 2)\n",
    "slope = numerator / denominator\n",
    "intercept = y_mean - slope * X_mean\n",
    "\n",
    "# Вычисляем предсказания модели\n",
    "y_pred = slope * X + intercept\n",
    "\n",
    "# Среднеквадратичная ошибка (MSE)\n",
    "mse = mean_squared_error(y, y_pred)\n",
    "\n",
    "print(f\"Наклон: {slope:.4f}\")\n",
    "print(f\"Сдвиг (intercept): {intercept:.4f}\")\n",
    "print(f\"Среднеквадратичная ошибка (MSE): {mse:.4f}\")\n"
   ],
   "id": "990887ab5957e8a0",
   "outputs": [
    {
     "name": "stdout",
     "output_type": "stream",
     "text": [
      "Наклон: 23615.9635\n",
      "Сдвиг (intercept): 8434.2683\n",
      "Среднеквадратичная ошибка (MSE): 55720715.9542\n"
     ]
    }
   ],
   "execution_count": 16
  },
  {
   "metadata": {},
   "cell_type": "markdown",
   "source": "### Задание 2.3",
   "id": "8e597af9a40637da"
  },
  {
   "metadata": {
    "ExecuteTime": {
     "end_time": "2024-09-24T16:56:19.945683Z",
     "start_time": "2024-09-24T16:56:19.734548Z"
    }
   },
   "cell_type": "code",
   "source": [
    "# Визуализация регрессии\n",
    "plt.scatter(X, y, label='Данные')\n",
    "plt.plot(X, y_pred, color='red', label='Линейная регрессия')\n",
    "plt.title(f\"Линейная регрессия: {most_correlated_feature} vs {target_variable}\")\n",
    "plt.xlabel(most_correlated_feature)\n",
    "plt.ylabel(target_variable)\n",
    "plt.legend()\n",
    "plt.grid(True)\n",
    "plt.show()\n"
   ],
   "id": "5a37f369a0e710a2",
   "outputs": [
    {
     "data": {
      "text/plain": [
       "<Figure size 640x480 with 1 Axes>"
      ],
      "image/png": "[encoded data removed]"
     },
     "metadata": {},
     "output_type": "display_data"
    }
   ],
   "execution_count": 17
  },
  {
   "metadata": {},
   "cell_type": "markdown",
   "source": "# Задание 3",
   "id": "5635a4368915c0f8"
  },
  {
   "metadata": {
    "ExecuteTime": {
     "end_time": "2024-09-24T16:56:20.006956Z",
     "start_time": "2024-09-24T16:56:19.995915Z"
    }
   },
   "cell_type": "code",
   "source": [
    "# Выводим уникальные регионы\n",
    "unique_regions = df_insurance['region'].unique()\n",
    "print(f\"Уникальные регионы: {unique_regions}\")\n"
   ],
   "id": "5a3cce97e644f84b",
   "outputs": [
    {
     "name": "stdout",
     "output_type": "stream",
     "text": [
      "Уникальные регионы: ['southwest' 'southeast' 'northwest' 'northeast']\n"
     ]
    }
   ],
   "execution_count": 18
  },
  {
   "metadata": {},
   "cell_type": "markdown",
   "source": "### Задание 3.1",
   "id": "1f8aa287fac0c53b"
  },
  {
   "metadata": {
    "ExecuteTime": {
     "end_time": "2024-09-24T16:56:20.147895Z",
     "start_time": "2024-09-24T16:56:20.073149Z"
    }
   },
   "cell_type": "code",
   "source": [
    "from scipy import stats\n",
    "\n",
    "# Разделяем данные по регионам\n",
    "regions_bmi = [df_insurance[df_insurance['region'] == region]['bmi'] for region in unique_regions]\n",
    "\n",
    "# Выполняем однофакторный ANOVA тест\n",
    "f_value, p_value = stats.f_oneway(*regions_bmi)\n",
    "\n",
    "print(f\"F-статистика: {f_value:.4f}\")\n",
    "print(f\"P-значение: {p_value:.4f}\")\n",
    "\n",
    "if p_value < 0.05:\n",
    "    print(\"Регионы статистически значимо влияют на индекс массы тела (BMI).\")\n",
    "else:\n",
    "    print(\"Регионы не оказывают статистически значимого влияния на индекс массы тела (BMI).\")\n"
   ],
   "id": "5a4bded7db3ce743",
   "outputs": [
    {
     "name": "stdout",
     "output_type": "stream",
     "text": [
      "F-статистика: 39.4951\n",
      "P-значение: 0.0000\n",
      "Регионы статистически значимо влияют на индекс массы тела (BMI).\n"
     ]
    }
   ],
   "execution_count": 19
  },
  {
   "metadata": {},
   "cell_type": "markdown",
   "source": "### Задание 3.2",
   "id": "997c5fe4587a448a"
  },
  {
   "metadata": {
    "ExecuteTime": {
     "end_time": "2024-09-24T16:56:20.838884Z",
     "start_time": "2024-09-24T16:56:20.247775Z"
    }
   },
   "cell_type": "code",
   "source": [
    "import statsmodels.api as sm\n",
    "from statsmodels.formula.api import ols\n",
    "from statsmodels.stats.anova import anova_lm\n",
    "\n",
    "# Создадим модель линейной регрессии: BMI ~ region\n",
    "model = ols('bmi ~ C(region)', data=df_insurance).fit()\n",
    "\n",
    "# Выполним ANOVA тест\n",
    "anova_results = anova_lm(model)\n",
    "\n",
    "print(anova_results)\n"
   ],
   "id": "777cc967ab9b6526",
   "outputs": [
    {
     "name": "stdout",
     "output_type": "stream",
     "text": [
      "               df        sum_sq      mean_sq          F        PR(>F)\n",
      "C(region)     3.0   4055.880631  1351.960210  39.495057  1.881839e-24\n",
      "Residual   1334.0  45664.319755    34.231124        NaN           NaN\n"
     ]
    }
   ],
   "execution_count": 20
  },
  {
   "metadata": {},
   "cell_type": "markdown",
   "source": "# Задание 3.3",
   "id": "a960023e40fe01e3"
  },
  {
   "metadata": {
    "ExecuteTime": {
     "end_time": "2024-09-24T17:07:28.892908Z",
     "start_time": "2024-09-24T17:07:28.852895Z"
    }
   },
   "cell_type": "code",
   "source": [
    "from itertools import combinations\n",
    "from statsmodels.stats.multitest import multipletests\n",
    "\n",
    "# Получаем все пары регионов для парного теста\n",
    "region_pairs = list(combinations(unique_regions, 2))\n",
    "p_values = []\n",
    "\n",
    "# Выполняем t-тест для каждой пары регионов\n",
    "for pair in region_pairs:\n",
    "    bmi_1 = df_insurance[df_insurance['region'] == pair[0]]['bmi']\n",
    "    bmi_2 = df_insurance[df_insurance['region'] == pair[1]]['bmi']\n",
    "    t_stat, p_val = stats.ttest_ind(bmi_1, bmi_2)\n",
    "    p_values.append(p_val)\n",
    "\n",
    "# Применяем поправку Бонферрони\n",
    "_, p_adjusted, _, _ = multipletests(p_values, method='bonferroni')\n",
    "\n",
    "# Выводим результаты\n",
    "for i, pair in enumerate(region_pairs):\n",
    "    print(f\"Пара регионов {pair}: p-значение (с поправкой Бонферрони) = {p_adjusted[i]:.4f}\")\n",
    "\n",
    "# Вывод\n",
    "significant_pairs = [pair for i, pair in enumerate(region_pairs) if p_adjusted[i] < 0.05]\n",
    "\n",
    "if significant_pairs:\n",
    "    print(f\"Статистически значимые различия в BMI найдены между следующими парами регионов: {significant_pairs}\")\n",
    "else:\n",
    "    print(\"Статистически значимых различий в BMI между регионами не найдено.\")"
   ],
   "id": "889092cd23ee2ced",
   "outputs": [
    {
     "name": "stdout",
     "output_type": "stream",
     "text": [
      "Пара регионов ('southwest', 'southeast'): p-значение (с поправкой Бонферрони) = 0.0000\n",
      "Пара регионов ('southwest', 'northwest'): p-значение (с поправкой Бонферрони) = 0.0065\n",
      "Пара регионов ('southwest', 'northeast'): p-значение (с поправкой Бонферрони) = 0.0115\n",
      "Пара регионов ('southeast', 'northwest'): p-значение (с поправкой Бонферрони) = 0.0000\n",
      "Пара регионов ('southeast', 'northeast'): p-значение (с поправкой Бонферрони) = 0.0000\n",
      "Пара регионов ('northwest', 'northeast'): p-значение (с поправкой Бонферрони) = 1.0000\n",
      "Статистически значимые различия в BMI найдены между следующими парами регионов: [('southwest', 'southeast'), ('southwest', 'northwest'), ('southwest', 'northeast'), ('southeast', 'northwest'), ('southeast', 'northeast')]\n"
     ]
    }
   ],
   "execution_count": 25
  },
  {
   "metadata": {},
   "cell_type": "markdown",
   "source": [
    "Из полученных результатов t-тестов с поправкой Бонферрони можно сделать следующие выводы:\n",
    "\n",
    "Существенные различия в индексе массы тела (BMI) обнаружены между несколькими парами регионов:\n",
    "\n",
    "'southwest' и 'southeast': p-значение = 0.0000 (значительное различие).\n",
    "'southwest' и 'northwest': p-значение = 0.0065 (значительное различие).\n",
    "'southwest' и 'northeast': p-значение = 0.0115 (значительное различие).\n",
    "'southeast' и 'northwest': p-значение = 0.0000 (значительное различие).\n",
    "'southeast' и 'northeast': p-значение = 0.0000 (значительное различие).\n",
    "Это говорит о том, что индекс массы тела (BMI) статистически значимо различается между данными регионами. В частности, регион 'southwest' имеет значительные различия по BMI с остальными регионами, как и 'southeast'.\n",
    "\n",
    "Нет значимых различий между 'northwest' и 'northeast':\n",
    "\n",
    "Для пары регионов 'northwest' и 'northeast' p-значение составило 1.0000, что указывает на отсутствие статистически значимых различий в BMI между этими регионами.\n",
    "Интерпретация:\n",
    "В регионах 'southwest' и 'southeast' индекс массы тела существенно отличается от других регионов. Это может указывать на то, что население этих регионов имеет определённые особенности в образе жизни, питании или других факторах, влияющих на BMI.\n",
    "Регионы 'northwest' и 'northeast' не демонстрируют существенных различий по индексу массы тела. Это может указывать на схожие условия жизни или схожие поведенческие и культурные факторы, влияющие на здоровье населения.\n",
    "В целом, значимые различия между регионами указывают на то, что географические факторы могут существенно влиять на индекс массы тела людей, что может быть полезно для дальнейшего изучения и выработки мер по поддержанию здоровья населения в этих регионах."
   ],
   "id": "911b39600e4c347d"
  },
  {
   "metadata": {},
   "cell_type": "markdown",
   "source": "### Задание 3.4",
   "id": "a12833f924ede666"
  },
  {
   "metadata": {
    "ExecuteTime": {
     "end_time": "2024-09-24T16:56:21.775102Z",
     "start_time": "2024-09-24T16:56:21.014008Z"
    }
   },
   "cell_type": "code",
   "source": [
    "from statsmodels.stats.multicomp import pairwise_tukeyhsd\n",
    "\n",
    "# Пост-хок тест Тьюки для сравнения регионов по BMI\n",
    "tukey_test = pairwise_tukeyhsd(endog=df_insurance['bmi'], groups=df_insurance['region'], alpha=0.05)\n",
    "\n",
    "# Вывод результатов теста\n",
    "print(tukey_test)\n",
    "\n",
    "# Построим график\n",
    "tukey_test.plot_simultaneous()\n",
    "plt.title(\"Тест Тьюки для сравнения регионов по BMI\")\n",
    "plt.show()"
   ],
   "id": "b08b635a7cfafd25",
   "outputs": [
    {
     "name": "stdout",
     "output_type": "stream",
     "text": [
      "   Multiple Comparison of Means - Tukey HSD, FWER=0.05    \n",
      "==========================================================\n",
      "  group1    group2  meandiff p-adj   lower   upper  reject\n",
      "----------------------------------------------------------\n",
      "northeast northwest   0.0263 0.9999 -1.1552  1.2078  False\n",
      "northeast southeast   4.1825    0.0   3.033   5.332   True\n",
      "northeast southwest   1.4231 0.0107  0.2416  2.6046   True\n",
      "northwest southeast   4.1562    0.0  3.0077  5.3047   True\n",
      "northwest southwest   1.3968 0.0127  0.2162  2.5774   True\n",
      "southeast southwest  -2.7594    0.0 -3.9079 -1.6108   True\n",
      "----------------------------------------------------------\n"
     ]
    },
    {
     "data": {
      "text/plain": [
       "<Figure size 1000x600 with 1 Axes>"
      ],
      "image/png": "[encoded data removed]"
     },
     "metadata": {},
     "output_type": "display_data"
    }
   ],
   "execution_count": 22
  },
  {
   "metadata": {},
   "cell_type": "markdown",
   "source": "### Задание 3.5",
   "id": "e2cc7e859878656a"
  },
  {
   "metadata": {
    "ExecuteTime": {
     "end_time": "2024-09-24T16:56:21.852772Z",
     "start_time": "2024-09-24T16:56:21.823208Z"
    }
   },
   "cell_type": "code",
   "source": [
    "# Двухфакторная модель: BMI ~ region + sex\n",
    "model_2way = ols('bmi ~ C(region) + C(sex)', data=df_insurance).fit()\n",
    "\n",
    "# Выполним ANOVA тест\n",
    "anova_results_2way = anova_lm(model_2way)\n",
    "\n",
    "print(anova_results_2way)\n"
   ],
   "id": "5b27a812446ac908",
   "outputs": [
    {
     "name": "stdout",
     "output_type": "stream",
     "text": [
      "               df        sum_sq      mean_sq          F        PR(>F)\n",
      "C(region)     3.0   4055.880631  1351.960210  39.539923  1.773031e-24\n",
      "C(sex)        1.0     86.007035    86.007035   2.515393  1.129767e-01\n",
      "Residual   1333.0  45578.312720    34.192283        NaN           NaN\n"
     ]
    }
   ],
   "execution_count": 23
  },
  {
   "metadata": {},
   "cell_type": "markdown",
   "source": "### Задание 3.6",
   "id": "7543187ec96fdc03"
  },
  {
   "metadata": {
    "ExecuteTime": {
     "end_time": "2024-09-24T16:56:22.589324Z",
     "start_time": "2024-09-24T16:56:21.900865Z"
    }
   },
   "cell_type": "code",
   "source": [
    "# Пост-хок тест Тьюки для региона и пола\n",
    "tukey_test_sex_region = pairwise_tukeyhsd(endog=df_insurance['bmi'], groups=df_insurance['region'], alpha=0.05)\n",
    "\n",
    "# Вывод результатов теста\n",
    "print(tukey_test_sex_region)\n",
    "\n",
    "# Построим график\n",
    "tukey_test_sex_region.plot_simultaneous()\n",
    "plt.title(\"Тест Тьюки для региона и пола по BMI\")\n",
    "plt.show()\n"
   ],
   "id": "197d2faf73f1de7d",
   "outputs": [
    {
     "name": "stdout",
     "output_type": "stream",
     "text": [
      "   Multiple Comparison of Means - Tukey HSD, FWER=0.05    \n",
      "==========================================================\n",
      "  group1    group2  meandiff p-adj   lower   upper  reject\n",
      "----------------------------------------------------------\n",
      "northeast northwest   0.0263 0.9999 -1.1552  1.2078  False\n",
      "northeast southeast   4.1825    0.0   3.033   5.332   True\n",
      "northeast southwest   1.4231 0.0107  0.2416  2.6046   True\n",
      "northwest southeast   4.1562    0.0  3.0077  5.3047   True\n",
      "northwest southwest   1.3968 0.0127  0.2162  2.5774   True\n",
      "southeast southwest  -2.7594    0.0 -3.9079 -1.6108   True\n",
      "----------------------------------------------------------\n"
     ]
    },
    {
     "data": {
      "text/plain": [
       "<Figure size 1000x600 with 1 Axes>"
      ],
      "image/png": "[encoded data removed]"
     },
     "metadata": {},
     "output_type": "display_data"
    }
   ],
   "execution_count": 24
  }
 ],
 "metadata": {
  "kernelspec": {
   "display_name": "Python 3",
   "language": "python",
   "name": "python3"
  },
  "language_info": {
   "codemirror_mode": {
    "name": "ipython",
    "version": 2
   },
   "file_extension": ".py",
   "mimetype": "text/x-python",
   "name": "python",
   "nbconvert_exporter": "python",
   "pygments_lexer": "ipython2",
   "version": "2.7.6"
  }
 },
 "nbformat": 4,
 "nbformat_minor": 5
}
