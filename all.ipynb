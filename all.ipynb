{
 "cells": [
  {
   "metadata": {},
   "cell_type": "markdown",
   "source": "# Задание 1",
   "id": "9e5a2ea1c0575c2"
  },
  {
   "metadata": {
    "ExecuteTime": {
     "end_time": "2024-10-20T22:33:17.424612Z",
     "start_time": "2024-10-20T22:33:17.361852Z"
    }
   },
   "cell_type": "code",
   "source": [
    "# Импортируем необходимые библиотеки\n",
    "from sklearn.datasets import load_digits\n",
    "from sklearn.model_selection import train_test_split\n",
    "from sklearn.preprocessing import StandardScaler\n",
    "\n",
    "# Загружаем данные\n",
    "digits = load_digits()\n",
    "\n",
    "# Разделяем данные на признаки и целевую переменную\n",
    "X, y = digits.data, digits.target\n",
    "\n",
    "# Разделяем на обучающую и тестовую выборки\n",
    "X_train, X_test, y_train, y_test = train_test_split(X, y, test_size=0.3, random_state=42)\n",
    "\n",
    "# Нормализуем данные\n",
    "scaler = StandardScaler()\n",
    "X_train = scaler.fit_transform(X_train)\n",
    "X_test = scaler.transform(X_test)\n",
    "\n",
    "# Проверим размеры\n",
    "print(\"Размер обучающей выборки:\", X_train.shape)\n",
    "print(\"Размер тестовой выборки:\", X_test.shape)\n"
   ],
   "id": "9311c9ac2f7df88f",
   "outputs": [
    {
     "name": "stdout",
     "output_type": "stream",
     "text": [
      "Размер обучающей выборки: (1257, 64)\n",
      "Размер тестовой выборки: (540, 64)\n"
     ]
    }
   ],
   "execution_count": 8
  },
  {
   "metadata": {},
   "cell_type": "markdown",
   "source": "# Задание 2",
   "id": "b70a82f9d62c71e8"
  },
  {
   "metadata": {
    "ExecuteTime": {
     "end_time": "2024-10-20T22:33:22.442549Z",
     "start_time": "2024-10-20T22:33:18.465605Z"
    }
   },
   "cell_type": "code",
   "source": [
    "# Импортируем необходимые библиотеки\n",
    "from sklearn.ensemble import BaggingClassifier\n",
    "from sklearn.tree import DecisionTreeClassifier\n",
    "from sklearn.metrics import accuracy_score\n",
    "import time\n",
    "\n",
    "# Создаем модель дерева решений\n",
    "base_estimator = DecisionTreeClassifier(random_state=42)\n",
    "\n",
    "# Создаем модель баггинга\n",
    "bagging = BaggingClassifier(estimator=base_estimator, n_estimators=100, random_state=42)\n",
    "\n",
    "# Замеряем время тренировки модели баггинга\n",
    "start_time = time.time()\n",
    "bagging.fit(X_train, y_train)\n",
    "train_time = time.time() - start_time\n",
    "\n",
    "# Предсказываем на тестовых данных\n",
    "y_pred_bagging = bagging.predict(X_test)\n",
    "\n",
    "# Оцениваем точность\n",
    "accuracy_bagging = accuracy_score(y_test, y_pred_bagging)\n",
    "\n",
    "# Выводим результаты\n",
    "print(f\"Время обучения баггинг модели: {train_time:.4f} секунд\")\n",
    "print(f\"Точность баггинг модели: {accuracy_bagging:.4f}\")\n"
   ],
   "id": "2ba67d0594763ab7",
   "outputs": [
    {
     "name": "stdout",
     "output_type": "stream",
     "text": [
      "Время обучения баггинг модели: 3.9054 секунд\n",
      "Точность баггинг модели: 0.9519\n"
     ]
    }
   ],
   "execution_count": 9
  },
  {
   "metadata": {},
   "cell_type": "markdown",
   "source": "# Задание 3",
   "id": "331d6deb72409b28"
  },
  {
   "metadata": {
    "ExecuteTime": {
     "end_time": "2024-10-20T22:33:29.329926Z",
     "start_time": "2024-10-20T22:33:22.475174Z"
    }
   },
   "cell_type": "code",
   "source": [
    "# Импортируем библиотеку для бустинга\n",
    "from sklearn.ensemble import GradientBoostingClassifier\n",
    "\n",
    "# Создаем модель бустинга\n",
    "boosting = GradientBoostingClassifier(n_estimators=100, random_state=42)\n",
    "\n",
    "# Замеряем время тренировки модели бустинга\n",
    "start_time = time.time()\n",
    "boosting.fit(X_train, y_train)\n",
    "train_time = time.time() - start_time\n",
    "\n",
    "# Предсказываем на тестовых данных\n",
    "y_pred_boosting = boosting.predict(X_test)\n",
    "\n",
    "# Оцениваем точность\n",
    "accuracy_boosting = accuracy_score(y_test, y_pred_boosting)\n",
    "\n",
    "# Выводим результаты\n",
    "print(f\"Время обучения бустинг модели: {train_time:.4f} секунд\")\n",
    "print(f\"Точность бустинг модели: {accuracy_boosting:.4f}\")\n"
   ],
   "id": "ac816858dfb4abf4",
   "outputs": [
    {
     "name": "stdout",
     "output_type": "stream",
     "text": [
      "Время обучения бустинг модели: 6.8317 секунд\n",
      "Точность бустинг модели: 0.9685\n"
     ]
    }
   ],
   "execution_count": 10
  },
  {
   "metadata": {},
   "cell_type": "markdown",
   "source": "# Задание 4",
   "id": "be3de9c104b650fc"
  },
  {
   "metadata": {
    "ExecuteTime": {
     "end_time": "2024-10-20T22:33:29.438006Z",
     "start_time": "2024-10-20T22:33:29.418387Z"
    }
   },
   "cell_type": "code",
   "source": [
    "print(\"\\nСравнение моделей:\")\n",
    "print(f\"Точность баггинг модели: {accuracy_bagging:.4f}\")\n",
    "print(f\"Точность бустинг модели: {accuracy_boosting:.4f}\")\n",
    "print(f\"Время обучения баггинг модели: {train_time:.4f} секунд\")\n",
    "print(f\"Время обучения бустинг модели: {train_time:.4f} секунд\")\n"
   ],
   "id": "f473c4218e1412e",
   "outputs": [
    {
     "name": "stdout",
     "output_type": "stream",
     "text": [
      "\n",
      "Сравнение моделей:\n",
      "Точность баггинг модели: 0.9519\n",
      "Точность бустинг модели: 0.9685\n",
      "Время обучения баггинг модели: 6.8317 секунд\n",
      "Время обучения бустинг модели: 6.8317 секунд\n"
     ]
    }
   ],
   "execution_count": 11
  }
 ],
 "metadata": {
  "kernelspec": {
   "display_name": "Python 3",
   "language": "python",
   "name": "python3"
  },
  "language_info": {
   "codemirror_mode": {
    "name": "ipython",
    "version": 2
   },
   "file_extension": ".py",
   "mimetype": "text/x-python",
   "name": "python",
   "nbconvert_exporter": "python",
   "pygments_lexer": "ipython2",
   "version": "2.7.6"
  }
 },
 "nbformat": 4,
 "nbformat_minor": 5
}
