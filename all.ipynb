{
 "cells": [
  {
   "cell_type": "code",
   "id": "initial_id",
   "metadata": {
    "collapsed": true,
    "ExecuteTime": {
     "end_time": "2024-10-09T21:23:55.667318Z",
     "start_time": "2024-10-09T21:23:55.509502Z"
    }
   },
   "source": [
    "import json\n",
    "import pandas as pd\n",
    "from sklearn.preprocessing import StandardScaler\n",
    "\n",
    "# Чтение данных из JSON файла\n",
    "file_path = 'pm_vk_wall.json'  # путь к файлу\n",
    "with open(file_path, 'r', encoding='utf-8') as f:\n",
    "    vk_data = json.load(f)\n",
    "\n",
    "# Создание списка для признаков\n",
    "posts = []\n",
    "for post in vk_data:\n",
    "    # Извлечение нужных полей из постов\n",
    "    posts.append({\n",
    "        'likes_count': post.get('likes', {}).get('count', 0),\n",
    "        'comments_count': post.get('comments', {}).get('count', 0),\n",
    "        'reposts_count': post.get('reposts', {}).get('count', 0),\n",
    "        'views_count': post.get('views', {}).get('count', 0),\n",
    "        'attachments_count': len(post.get('attachments', [])),\n",
    "        'text_length': len(post.get('text', '')),\n",
    "        'has_attachments': 1 if post.get('attachments') else 0,\n",
    "        'platform': post.get('post_source', {}).get('platform', 'unknown'),\n",
    "        'is_donut': 1 if post.get('donut', {}).get('is_donut', False) else 0,\n",
    "        'post_date': post.get('date', 0),\n",
    "    })\n",
    "\n",
    "# Преобразование данных в DataFrame\n",
    "df = pd.DataFrame(posts)\n",
    "\n",
    "# Нормализация числовых признаков (кроме категориальных, таких как платформа)\n",
    "scaler = StandardScaler()\n",
    "numerical_features = ['likes_count', 'comments_count', 'reposts_count', 'views_count', 'attachments_count', 'text_length', 'post_date']\n",
    "df[numerical_features] = scaler.fit_transform(df[numerical_features])\n",
    "\n",
    "# Отображение первых строк DataFrame\n",
    "df.head()\n"
   ],
   "outputs": [
    {
     "data": {
      "text/plain": [
       "likes_count           True\n",
       "comments_count        True\n",
       "reposts_count         True\n",
       "views_count           True\n",
       "attachments_count     True\n",
       "text_length           True\n",
       "has_attachments      False\n",
       "platform              True\n",
       "is_donut             False\n",
       "post_date             True\n",
       "dtype: bool"
      ]
     },
     "execution_count": 5,
     "metadata": {},
     "output_type": "execute_result"
    }
   ],
   "execution_count": 5
  }
 ],
 "metadata": {
  "kernelspec": {
   "display_name": "Python 3",
   "language": "python",
   "name": "python3"
  },
  "language_info": {
   "codemirror_mode": {
    "name": "ipython",
    "version": 2
   },
   "file_extension": ".py",
   "mimetype": "text/x-python",
   "name": "python",
   "nbconvert_exporter": "python",
   "pygments_lexer": "ipython2",
   "version": "2.7.6"
  }
 },
 "nbformat": 4,
 "nbformat_minor": 5
}
