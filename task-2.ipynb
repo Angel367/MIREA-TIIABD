{
 "cells": [
  {
   "cell_type": "code",
   "id": "initial_id",
   "metadata": {
    "collapsed": true,
    "ExecuteTime": {
     "end_time": "2024-09-06T20:48:42.885984Z",
     "start_time": "2024-09-06T20:48:42.856151Z"
    }
   },
   "source": "import math",
   "outputs": [],
   "execution_count": 1
  },
  {
   "metadata": {
    "ExecuteTime": {
     "end_time": "2024-09-06T20:48:42.994789Z",
     "start_time": "2024-09-06T20:48:42.889984Z"
    }
   },
   "cell_type": "code",
   "source": [
    "def calculate_area(shape, *params):\n",
    "    \"\"\"\n",
    "    Функция для расчета площади фигуры\n",
    "    shape: название фигуры (треугольник, прямоугольник, круг)\n",
    "    params: параметры фигуры\n",
    "    \"\"\"\n",
    "    if shape == 'T':    # Triangle\n",
    "        if len(params) != 3:\n",
    "            raise ValueError(\"Для треугольника нужно указать три стороны\")\n",
    "        \n",
    "        a, b, c = params\n",
    "        s = (a + b + c) / 2\n",
    "        if s <= a or s <= b or s <= c:\n",
    "            raise ValueError(\"Треугольник с такими сторонами не существует\")\n",
    "        area = math.sqrt(s * (s - a) * (s - b) * (s - c))   # Формула Герона\n",
    "    \n",
    "    elif shape == 'R':  # Rectangle\n",
    "        if len(params) != 2:\n",
    "            raise ValueError(\"Для прямоугольника нужно указать длину и ширину\")\n",
    "        length, width = params\n",
    "        area = length * width\n",
    "    \n",
    "    elif shape == 'C':  # Circle\n",
    "        if len(params) != 1:\n",
    "            raise ValueError(\"Для круга нужно указать радиус\")\n",
    "        radius = params[0]\n",
    "        area = math.pi * radius ** 2\n",
    "    else:\n",
    "        raise ValueError(\"Неизвестная фигура\")\n",
    "    \n",
    "    return {shape: area}"
   ],
   "id": "da3a93f5ed026c02",
   "outputs": [],
   "execution_count": 2
  },
  {
   "metadata": {
    "ExecuteTime": {
     "end_time": "2024-09-06T20:48:45.094692Z",
     "start_time": "2024-09-06T20:48:42.996626Z"
    }
   },
   "cell_type": "code",
   "source": [
    "# Треугольник\n",
    "a, b, c = input(\"Введите стороны треугольника через пробел: \").split()\n",
    "a, b, c = float(a), float(b), float(c)\n",
    "print(calculate_area('T', a, b, c))"
   ],
   "id": "53362aaca013937",
   "outputs": [
    {
     "name": "stdout",
     "output_type": "stream",
     "text": [
      "{'T': 2.9047375096555625}\n"
     ]
    }
   ],
   "execution_count": 3
  },
  {
   "metadata": {
    "ExecuteTime": {
     "end_time": "2024-09-06T20:48:49.003615Z",
     "start_time": "2024-09-06T20:48:45.108244Z"
    }
   },
   "cell_type": "code",
   "source": [
    "# Прямоугольник\n",
    "length, width = input(\"Введите длину и ширину прямоугольника через пробел: \").split()\n",
    "length, width = float(length), float(width)\n",
    "print(calculate_area('R', length, width))"
   ],
   "id": "e8a24c1475109319",
   "outputs": [
    {
     "name": "stdout",
     "output_type": "stream",
     "text": [
      "{'R': 144.0}\n"
     ]
    }
   ],
   "execution_count": 4
  },
  {
   "metadata": {
    "ExecuteTime": {
     "end_time": "2024-09-06T20:48:51.163236Z",
     "start_time": "2024-09-06T20:48:49.006624Z"
    }
   },
   "cell_type": "code",
   "source": [
    "# Круг\n",
    "radius = float(input(\"Введите радиус круга: \"))\n",
    "print(calculate_area('C', radius))"
   ],
   "id": "a30b1b3597671d22",
   "outputs": [
    {
     "name": "stdout",
     "output_type": "stream",
     "text": [
      "{'C': 28.274333882308138}\n"
     ]
    }
   ],
   "execution_count": 5
  },
  {
   "metadata": {
    "ExecuteTime": {
     "end_time": "2024-09-06T20:48:51.178792Z",
     "start_time": "2024-09-06T20:48:51.169251Z"
    }
   },
   "cell_type": "code",
   "source": "",
   "id": "c3075c589fd65fa4",
   "outputs": [],
   "execution_count": 5
  }
 ],
 "metadata": {
  "kernelspec": {
   "display_name": "Python 3",
   "language": "python",
   "name": "python3"
  },
  "language_info": {
   "codemirror_mode": {
    "name": "ipython",
    "version": 2
   },
   "file_extension": ".py",
   "mimetype": "text/x-python",
   "name": "python",
   "nbconvert_exporter": "python",
   "pygments_lexer": "ipython2",
   "version": "2.7.6"
  }
 },
 "nbformat": 4,
 "nbformat_minor": 5
}
