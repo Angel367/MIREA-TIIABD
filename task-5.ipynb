{
 "cells": [
  {
   "cell_type": "code",
   "id": "57d5a4bc12b3bced",
   "metadata": {
    "ExecuteTime": {
     "end_time": "2024-09-08T15:30:19.634374Z",
     "start_time": "2024-09-08T15:30:17.761089Z"
    }
   },
   "source": [
    "n = int(input(\"Введите число N: \"))\n",
    "arr = []\n",
    "print(n)"
   ],
   "outputs": [
    {
     "name": "stdout",
     "output_type": "stream",
     "text": [
      "8\n"
     ]
    }
   ],
   "execution_count": 1
  },
  {
   "cell_type": "code",
   "id": "39e222452fcdb9fc",
   "metadata": {
    "ExecuteTime": {
     "end_time": "2024-09-08T15:30:19.787385Z",
     "start_time": "2024-09-08T15:30:19.773066Z"
    }
   },
   "source": [
    "\"\"\"\n",
    "Напишите программу, которая выводит последовательность\n",
    "чисел, длинною N, где каждое число повторяется столько раз, чему оно равно.\n",
    "На вход программе передаётся неотрицательное целое число N. Например,\n",
    "если N = 7, то программа должна вывести 1 2 2 3 3 3 4. Вывод элементов списка\n",
    "через пробел – print(*list).\n",
    "\"\"\"\n",
    "for i in range(1, n):\n",
    "    arr += ([i] * i)\n",
    "arr = arr[:n]\n",
    "print(*arr)"
   ],
   "outputs": [
    {
     "name": "stdout",
     "output_type": "stream",
     "text": [
      "1 2 2 3 3 3 4 4\n"
     ]
    }
   ],
   "execution_count": 2
  },
  {
   "cell_type": "code",
   "id": "765d07f98a2afecd",
   "metadata": {
    "ExecuteTime": {
     "end_time": "2024-09-08T15:30:20.128231Z",
     "start_time": "2024-09-08T15:30:20.114907Z"
    }
   },
   "source": [],
   "outputs": [],
   "execution_count": null
  }
 ],
 "metadata": {
  "kernelspec": {
   "display_name": "Python 3 (ipykernel)",
   "language": "python",
   "name": "python3"
  },
  "language_info": {
   "codemirror_mode": {
    "name": "ipython",
    "version": 3
   },
   "file_extension": ".py",
   "mimetype": "text/x-python",
   "name": "python",
   "nbconvert_exporter": "python",
   "pygments_lexer": "ipython3",
   "version": "3.10.4"
  }
 },
 "nbformat": 4,
 "nbformat_minor": 5
}
