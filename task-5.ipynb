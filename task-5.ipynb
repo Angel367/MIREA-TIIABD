{
 "cells": [
  {
   "metadata": {
    "ExecuteTime": {
     "end_time": "2024-09-06T21:04:46.737736Z",
     "start_time": "2024-09-06T21:04:46.102396Z"
    }
   },
   "cell_type": "code",
   "source": [
    "n = int(input(\"Введите число N: \"))\n",
    "arr = []"
   ],
   "id": "57d5a4bc12b3bced",
   "outputs": [],
   "execution_count": 28
  },
  {
   "metadata": {
    "ExecuteTime": {
     "end_time": "2024-09-06T21:04:46.753320Z",
     "start_time": "2024-09-06T21:04:46.744802Z"
    }
   },
   "cell_type": "code",
   "source": [
    "\"\"\"\n",
    "Напишите программу, которая выводит последовательность\n",
    "чисел, длинною N, где каждое число повторяется столько раз, чему оно равно.\n",
    "На вход программе передаётся неотрицательное целое число N. Например,\n",
    "если N = 7, то программа должна вывести 1 2 2 3 3 3 4. Вывод элементов списка\n",
    "через пробел – print(*list).\n",
    "\"\"\"\n",
    "for i in range(1, n):\n",
    "    arr += ([i] * i)\n",
    "arr = arr[:n]\n",
    "print(*arr)"
   ],
   "id": "39e222452fcdb9fc",
   "outputs": [
    {
     "name": "stdout",
     "output_type": "stream",
     "text": [
      "1 2 2 3 3 3 4\n"
     ]
    }
   ],
   "execution_count": 29
  },
  {
   "metadata": {
    "ExecuteTime": {
     "end_time": "2024-09-06T21:04:46.768858Z",
     "start_time": "2024-09-06T21:04:46.755331Z"
    }
   },
   "cell_type": "code",
   "source": "",
   "id": "765d07f98a2afecd",
   "outputs": [],
   "execution_count": 29
  }
 ],
 "metadata": {
  "kernelspec": {
   "display_name": "Python 3",
   "language": "python",
   "name": "python3"
  },
  "language_info": {
   "codemirror_mode": {
    "name": "ipython",
    "version": 2
   },
   "file_extension": ".py",
   "mimetype": "text/x-python",
   "name": "python",
   "nbconvert_exporter": "python",
   "pygments_lexer": "ipython2",
   "version": "2.7.6"
  }
 },
 "nbformat": 4,
 "nbformat_minor": 5
}
