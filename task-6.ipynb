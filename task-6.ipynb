{
 "cells": [
  {
   "metadata": {
    "ExecuteTime": {
     "end_time": "2024-09-08T15:34:29.710324Z",
     "start_time": "2024-09-08T15:34:29.699388Z"
    }
   },
   "cell_type": "code",
   "source": [
    "a = [1, 2, 3, 4, 2, 1, 3, 4, 5, 6, 5, 4, 3, 2]\n",
    "b = ['a', 'b', 'c', 'c', 'c', 'b', 'a', 'c', 'a', 'a', 'b', 'c', 'b', 'a']"
   ],
   "id": "a2420d355c4e2a2b",
   "outputs": [],
   "execution_count": 1
  },
  {
   "metadata": {
    "ExecuteTime": {
     "end_time": "2024-09-08T15:34:29.725164Z",
     "start_time": "2024-09-08T15:34:29.718158Z"
    }
   },
   "cell_type": "code",
   "source": [
    "result = {}\n",
    "b_keys = list(set(b))\n",
    "for key in b_keys:\n",
    "    result[key] = 0"
   ],
   "id": "39e222452fcdb9fc",
   "outputs": [],
   "execution_count": 2
  },
  {
   "metadata": {
    "ExecuteTime": {
     "end_time": "2024-09-08T15:34:30.128356Z",
     "start_time": "2024-09-08T15:34:30.115794Z"
    }
   },
   "cell_type": "code",
   "source": [
    "for a_num, b_ch in zip(a, b):\n",
    "    result[b_ch] += a_num"
   ],
   "id": "b488dffee6f3ddc1",
   "outputs": [],
   "execution_count": 3
  },
  {
   "metadata": {
    "ExecuteTime": {
     "end_time": "2024-09-08T15:34:30.206458Z",
     "start_time": "2024-09-08T15:34:30.193521Z"
    }
   },
   "cell_type": "code",
   "source": "print(result)",
   "id": "88060af88fb039ad",
   "outputs": [
    {
     "name": "stdout",
     "output_type": "stream",
     "text": [
      "{'c': 17, 'a': 17, 'b': 11}\n"
     ]
    }
   ],
   "execution_count": 4
  }
 ],
 "metadata": {
  "kernelspec": {
   "display_name": "Python 3",
   "language": "python",
   "name": "python3"
  },
  "language_info": {
   "codemirror_mode": {
    "name": "ipython",
    "version": 2
   },
   "file_extension": ".py",
   "mimetype": "text/x-python",
   "name": "python",
   "nbconvert_exporter": "python",
   "pygments_lexer": "ipython2",
   "version": "2.7.6"
  }
 },
 "nbformat": 4,
 "nbformat_minor": 5
}
