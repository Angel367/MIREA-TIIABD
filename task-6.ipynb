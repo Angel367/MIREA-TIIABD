{
 "cells": [
  {
   "metadata": {
    "ExecuteTime": {
     "end_time": "2024-09-06T21:12:46.210472Z",
     "start_time": "2024-09-06T21:12:46.194412Z"
    }
   },
   "cell_type": "code",
   "source": [
    "# input_a = input(\"Введите список чисел через пробел: \")\n",
    "# input_b = input(\"Введите список букв через пробел: \")\n",
    "# a = [int(i) for i in input_a.split()]\n",
    "# b = input_b.split()"
   ],
   "id": "57d5a4bc12b3bced",
   "outputs": [],
   "execution_count": 13
  },
  {
   "metadata": {
    "ExecuteTime": {
     "end_time": "2024-09-06T21:12:46.225346Z",
     "start_time": "2024-09-06T21:12:46.215222Z"
    }
   },
   "cell_type": "code",
   "source": [
    "a = [1, 2, 3, 4, 2, 1, 3, 4, 5, 6, 5, 4, 3, 2]\n",
    "b = ['a', 'b', 'c', 'c', 'c', 'b', 'a', 'c', 'a', 'a', 'b', 'c', 'b', 'a']"
   ],
   "id": "a2420d355c4e2a2b",
   "outputs": [],
   "execution_count": 14
  },
  {
   "metadata": {
    "ExecuteTime": {
     "end_time": "2024-09-06T21:12:46.240977Z",
     "start_time": "2024-09-06T21:12:46.229502Z"
    }
   },
   "cell_type": "code",
   "source": [
    "result = {}\n",
    "b_keys = list(set(b))\n",
    "for key in b_keys:\n",
    "    result[key] = 0"
   ],
   "id": "39e222452fcdb9fc",
   "outputs": [],
   "execution_count": 15
  },
  {
   "metadata": {
    "ExecuteTime": {
     "end_time": "2024-09-06T21:12:46.256476Z",
     "start_time": "2024-09-06T21:12:46.245458Z"
    }
   },
   "cell_type": "code",
   "source": [
    "for a_num, b_ch in zip(a, b):\n",
    "    result[b_ch] += a_num"
   ],
   "id": "b488dffee6f3ddc1",
   "outputs": [],
   "execution_count": 16
  },
  {
   "metadata": {
    "ExecuteTime": {
     "end_time": "2024-09-06T21:12:46.286764Z",
     "start_time": "2024-09-06T21:12:46.259499Z"
    }
   },
   "cell_type": "code",
   "source": "print(result)",
   "id": "88060af88fb039ad",
   "outputs": [
    {
     "name": "stdout",
     "output_type": "stream",
     "text": [
      "{'a': 17, 'b': 11, 'c': 17}\n"
     ]
    }
   ],
   "execution_count": 17
  }
 ],
 "metadata": {
  "kernelspec": {
   "display_name": "Python 3",
   "language": "python",
   "name": "python3"
  },
  "language_info": {
   "codemirror_mode": {
    "name": "ipython",
    "version": 2
   },
   "file_extension": ".py",
   "mimetype": "text/x-python",
   "name": "python",
   "nbconvert_exporter": "python",
   "pygments_lexer": "ipython2",
   "version": "2.7.6"
  }
 },
 "nbformat": 4,
 "nbformat_minor": 5
}
